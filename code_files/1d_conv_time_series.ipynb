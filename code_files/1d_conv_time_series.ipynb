{
 "cells": [
  {
   "cell_type": "code",
   "execution_count": 1,
   "id": "ce31140d",
   "metadata": {},
   "outputs": [],
   "source": [
    "import numpy as np"
   ]
  },
  {
   "cell_type": "code",
   "execution_count": 2,
   "id": "1ccf2068",
   "metadata": {},
   "outputs": [
    {
     "data": {
      "text/plain": [
       "array([[2.48265555e-01, 6.95696006e-01],\n",
       "       [8.58915837e-01, 1.72091499e-01],\n",
       "       [1.20876923e+00, 4.21175886e-01],\n",
       "       ...,\n",
       "       [3.32695841e-01, 4.41379479e-01],\n",
       "       [9.81016135e-04, 6.22362006e-01],\n",
       "       [5.21212619e-01, 1.72592538e-01]])"
      ]
     },
     "execution_count": 2,
     "metadata": {},
     "output_type": "execute_result"
    }
   ],
   "source": [
    "n=3000\n",
    "n_step=30\n",
    "\n",
    "s1 = np.sin(np.pi * 0.06 * np.arange(n)) + np.random.random(n)\n",
    "s2 = 0.5 * np.sin(np.pi * 0.05 * np.arange(n)) + np.random.random(n)\n",
    "\n",
    "data = np.vstack([s1,s2]).T\n",
    "data"
   ]
  },
  {
   "cell_type": "code",
   "execution_count": 4,
   "id": "92d2a5b2",
   "metadata": {},
   "outputs": [
    {
     "data": {
      "text/plain": [
       "array([   0,    1,    2, ..., 2967, 2968, 2969])"
      ]
     },
     "execution_count": 4,
     "metadata": {},
     "output_type": "execute_result"
    }
   ],
   "source": [
    "m = np.arange(0, n-n_step)"
   ]
  },
  {
   "cell_type": "code",
   "execution_count": 8,
   "id": "d69b84a4",
   "metadata": {},
   "outputs": [
    {
     "data": {
      "text/plain": [
       "(2970, 30, 2)"
      ]
     },
     "execution_count": 8,
     "metadata": {},
     "output_type": "execute_result"
    }
   ],
   "source": [
    "x_train = np.array([data[i: (i+n_step),:] for i in m])\n",
    "x_train.shape"
   ]
  },
  {
   "cell_type": "code",
   "execution_count": 9,
   "id": "eee0255c",
   "metadata": {},
   "outputs": [
    {
     "data": {
      "text/plain": [
       "array([[-0.29778346,  0.47079532],\n",
       "       [ 0.09796819,  0.39870415],\n",
       "       [ 0.04746506,  0.4265682 ],\n",
       "       ...,\n",
       "       [ 0.33269584,  0.44137948],\n",
       "       [ 0.00098102,  0.62236201],\n",
       "       [ 0.52121262,  0.17259254]])"
      ]
     },
     "execution_count": 9,
     "metadata": {},
     "output_type": "execute_result"
    }
   ],
   "source": [
    "y_train = np.array([data[i,:] for i in (m+n_step)]) \n",
    "y_train"
   ]
  },
  {
   "cell_type": "code",
   "execution_count": 10,
   "id": "86acacda",
   "metadata": {},
   "outputs": [
    {
     "data": {
      "text/plain": [
       "(2970, 2)"
      ]
     },
     "execution_count": 10,
     "metadata": {},
     "output_type": "execute_result"
    }
   ],
   "source": [
    "y_train.shape"
   ]
  },
  {
   "cell_type": "code",
   "execution_count": null,
   "id": "558bfbe1",
   "metadata": {},
   "outputs": [],
   "source": []
  }
 ],
 "metadata": {
  "kernelspec": {
   "display_name": "Python 3 (ipykernel)",
   "language": "python",
   "name": "python3"
  },
  "language_info": {
   "codemirror_mode": {
    "name": "ipython",
    "version": 3
   },
   "file_extension": ".py",
   "mimetype": "text/x-python",
   "name": "python",
   "nbconvert_exporter": "python",
   "pygments_lexer": "ipython3",
   "version": "3.10.9"
  }
 },
 "nbformat": 4,
 "nbformat_minor": 5
}
